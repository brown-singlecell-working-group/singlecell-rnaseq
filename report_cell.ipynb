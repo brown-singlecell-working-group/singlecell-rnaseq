{
 "cells": [
  {
   "cell_type": "markdown",
   "metadata": {},
   "source": [
    "# Analysis of single cell RNA sequencing data\n",
    "---\n",
    "by Anton Crombach, anton.crombach@inria.fr\n",
    "\n",
    "This notebook contains a rather straightforward analysis of a single cell RNA sequencing data set. It closely follows the steps set out by Satija *et al.* (2015), but instead of using their R package `seurat`, I use the Python package `scanpy` in a Jupyter notebook.\n",
    "\n",
    "The analysis is divided into four major sections: \n",
    "\n",
    "1. Preprocessing,\n",
    "2. Dimension reduction and clustering, \n",
    "3. Analysis of marker genes,\n",
    "4. Zooming in on specific clusters.\n",
    "\n",
    "Before starting with the actual analysis, please take into account the following references:\n",
    "\n",
    "- Repository of `scanpy`, <https://github.com/theislab/scanpy/tree/master/scanpy>\n",
    "- Documentation of `scanpy`, <https://scanpy.readthedocs.io/en/stable/>\n",
    "- Accompanying article, <https://genomebiology.biomedcentral.com/articles/10.1186/s13059-017-1382-0>\n",
    "- R package `seurat`, <https://satijalab.org/seurat/>\n",
    "- Its original publication, <https://www.nature.com/articles/nbt.3192>\n",
    "- And do not forget that additional tutorials are available at <https://scanpy.readthedocs.io/en/stable/tutorials.html>.\n",
    "\n",
    "Finally, I use two kinds of text boxes to draw your attention. *Blue* boxes contain general information that is not strictly related to the analysis, but reading them makes you a more complete scientist. *Yellow* boxes signal key points in the analysis where you can modify variables or parameters and see how these affect the results."
   ]
  },
  {
   "cell_type": "markdown",
   "metadata": {},
   "source": [
    "## Getting ready, importing packages"
   ]
  },
  {
   "cell_type": "code",
   "execution_count": null,
   "metadata": {},
   "outputs": [],
   "source": [
    "# Operating System functionality, especially for traversing directory structures\n",
    "import os\n",
    "# Specialized container datatypes, i.e. specialized versions of lists, dictionaries, etc.\n",
    "import collections as coll\n",
    "# Date and time functions, useful for timestamping file names of figures.\n",
    "import datetime\n",
    "# Functional programming tools.\n",
    "import itertools as itt\n",
    "# Pretty-printing text by wrapping and filling lines.\n",
    "import textwrap as tw\n",
    "\n",
    "# Well-known package for n-dimensional arrays, numerical functions, linear algebra, etc.\n",
    "import numpy as np\n",
    "# Data analysis package.\n",
    "import pandas as pd\n",
    "# \"Default\" plotting package of Python.\n",
    "import matplotlib as mpl\n",
    "import matplotlib.pyplot as plt\n",
    "# Matplotlib colours module.\n",
    "import matplotlib.colors as mpcol\n",
    "# Package improving Matplotlib's default plot style.\n",
    "import seaborn as sns\n",
    "\n",
    "# Single Cell Analysis in Python\n",
    "import scanpy as sc"
   ]
  },
  {
   "cell_type": "markdown",
   "metadata": {},
   "source": [
    "<div class=\"alert alert-block alert-info\">\n",
    "    Upon importing packages, <em>h5py</em> gives a <em>FutureWarning</em>. This is a known (innocent) issue that does not impact our analysis. It can be safely ignored.\n",
    "</div>"
   ]
  },
  {
   "cell_type": "markdown",
   "metadata": {},
   "source": [
    "Set the level of chattiness of scanpy functions (0=errors, 1=warnings, 2=info, 3=hints, 4=details, 5 etc.)"
   ]
  },
  {
   "cell_type": "code",
   "execution_count": null,
   "metadata": {},
   "outputs": [],
   "source": [
    "sc.settings.verbosity = 3"
   ]
  },
  {
   "cell_type": "markdown",
   "metadata": {},
   "source": [
    "Throughout the notebook, one can use the paths below to retrieve and store data/figures."
   ]
  },
  {
   "cell_type": "code",
   "execution_count": null,
   "metadata": {},
   "outputs": [],
   "source": [
    "# Input\n",
    "DATA_PATH = \"/home/shared-data/\"\n",
    "PIRIF_PATH = os.path.join(DATA_PATH, \"filtered_feature_bc_matrix/\")\n",
    "TF_LIST_FNAME = os.path.join(DATA_PATH, \"mm_transcription_factors/mm_tf_list.html\")\n",
    "\n",
    "# Output\n",
    "FIGURES_PATH = \"/home/jovyan/figures\""
   ]
  },
  {
   "cell_type": "markdown",
   "metadata": {},
   "source": [
    "Make a *figures* directory if it does not exist yet."
   ]
  },
  {
   "cell_type": "code",
   "execution_count": null,
   "metadata": {},
   "outputs": [],
   "source": [
    "try:\n",
    "    os.mkdir(FIGURES_PATH)\n",
    "except FileExistsError:\n",
    "    print(\"'{}' already exists...\".format(FIGURES_PATH))\n",
    "    pass"
   ]
  },
  {
   "cell_type": "markdown",
   "metadata": {},
   "source": [
    "<div class=\"alert alert-block alert-info\">\n",
    "    The one-line function <code>timestamp</code> below is useful for adding a unique timestamp to output file names. I use it mainly to avoid overwriting old versions of the same figure. The downside is, of course, that you can end up with many many files in a folder.\n",
    "</div>"
   ]
  },
  {
   "cell_type": "code",
   "execution_count": null,
   "metadata": {},
   "outputs": [],
   "source": [
    "def timestamp():\n",
    "    return datetime.datetime.now().strftime('%Y-%m-%d_%Hh%M')"
   ]
  },
  {
   "cell_type": "markdown",
   "metadata": {},
   "source": [
    "## Reading in a big matrix of mRNA expression data"
   ]
  },
  {
   "cell_type": "code",
   "execution_count": null,
   "metadata": {},
   "outputs": [],
   "source": [
    "def read_data(input_path):\n",
    "    \"\"\"\n",
    "    Read in data given a directory. As 10X Genomics data always consists of \n",
    "    the same three files, scanpy is kind enough to provide a function that \n",
    "    deals with these. As a side-effect, we report which genes are found \n",
    "    multiple times.\n",
    "    \n",
    "    Return the AnnData object `data`.\n",
    "    \"\"\"\n",
    "    data = sc.read_10x_mtx(input_path, make_unique=False, cache=False)\n",
    "\n",
    "    if sc.settings.verbosity > 2:\n",
    "        # Print all genes that are present more than once as (name: found x times)\n",
    "        print(\"\\nDuplicate gene names with their nr of occurrences:\\n\") \n",
    "        print(\"\\n\".join(tw.wrap(\";\\t\".join(\"{0}: {1}\".format(name, ndup)\n",
    "                  for name, ndup in itt.takewhile(lambda x: x[1] > 1, \n",
    "                      coll.Counter(data.var_names).most_common())), 75)))\n",
    "\n",
    "    # Add '-1', '-2' etc. to names to make them unique\n",
    "    data.var_names_make_unique()\n",
    "    return data"
   ]
  },
  {
   "cell_type": "markdown",
   "metadata": {},
   "source": [
    "Please note that the function `read_data` calls `.var_names_make_unique`."
   ]
  },
  {
   "cell_type": "code",
   "execution_count": null,
   "metadata": {},
   "outputs": [],
   "source": [
    "data = read_data(PIRIF_PATH)"
   ]
  },
  {
   "cell_type": "markdown",
   "metadata": {},
   "source": [
    "I actually do not know why duplicate gene names pop up... Surely 10X Genomics mentions it somewhere in their documentation."
   ]
  },
  {
   "cell_type": "markdown",
   "metadata": {},
   "source": [
    "<div class=\"alert alert-block alert-info\">\n",
    "    It is a good habit to routinely check what your <var>AnnData</var> object looks like. A simple <code>print</code> command often gives enough information, as you can see below.\n",
    "</div>\n",
    "\n",
    "Reminder: *n_obs* = cells, *n_vars* = genes"
   ]
  },
  {
   "cell_type": "code",
   "execution_count": null,
   "metadata": {},
   "outputs": [],
   "source": [
    "print(data)"
   ]
  },
  {
   "cell_type": "markdown",
   "metadata": {},
   "source": [
    "<div class=\"alert alert-block alert-warning\">\n",
    "<b>Using Mouse Brain data </b> \n",
    "    </br>\n",
    "    </br>\n",
    "    The section below provides a starting point for your exploration of the code using the data provided from mousebrain.org\n",
    "\n",
    "</div>"
   ]
  },
  {
   "cell_type": "markdown",
   "metadata": {},
   "source": [
    "## Accessing and subsetting MouseBrain.org data"
   ]
  },
  {
   "cell_type": "markdown",
   "metadata": {},
   "source": [
    "Load the provided mouse brain data. This will take about a minute"
   ]
  },
  {
   "cell_type": "code",
   "execution_count": null,
   "metadata": {},
   "outputs": [],
   "source": [
    "import  anndata as ad\n",
    "mbdata=ad.read_h5ad(filename=os.path.join(DATA_PATH, 'l5_all.h5ad'))"
   ]
  },
  {
   "cell_type": "markdown",
   "metadata": {},
   "source": [
    "This loads the entire dataset in memory and now we shall show you how to subset the data based on the cluster alongwith some additional tips.\n",
    "First we get some basic information about the dataset. "
   ]
  },
  {
   "cell_type": "code",
   "execution_count": null,
   "metadata": {},
   "outputs": [],
   "source": [
    "mbdata"
   ]
  },
  {
   "cell_type": "markdown",
   "metadata": {},
   "source": [
    "As you can see the command provides some basic information about the dataset, mainly:\n",
    "* n_obs -- the number of rows: which is also the number of cells\n",
    "* n_vars -- the number of columns: Which is alss the number of genes\n",
    "\n",
    "Furthermore, a list of all the associated annotation variables for a given cell is provided. For more information on how the AnnData object is structured see this link https://anndata.readthedocs.io/en/latest/anndata.AnnData.html\n",
    "\n",
    "In this case we want to subset the data based on the putative clusters provided and the variable which contains this `ClusterName`. \n",
    "\n",
    "Let's take a quick peek at what are the different categories within `ClusterName`"
   ]
  },
  {
   "cell_type": "code",
   "execution_count": null,
   "metadata": {},
   "outputs": [],
   "source": [
    "mbdata.obs['ClusterName'].cat.categories"
   ]
  },
  {
   "cell_type": "markdown",
   "metadata": {},
   "source": [
    "Obviously you would look up how to print all the categories in a pandas dataframe, but to put things in context these names are the equivalent to the *symbol* column in the celltypes table here http://mousebrain.org/celltypes/\n",
    "\n",
    "Now we finally create a subset of our data and for brevity we will choose to include only clusters from  *TEGLU15* , *TEGLU16* and *TEGLU17*. The way this is done is by subsetting the `mbdata` object by providing a list of *cluster names*"
   ]
  },
  {
   "cell_type": "code",
   "execution_count": null,
   "metadata": {},
   "outputs": [],
   "source": [
    "mbdata_subset=mbdata[mbdata.obs['ClusterName'].isin(['TEGLU15', 'TEGLU16','TEGLU17']),]"
   ]
  },
  {
   "cell_type": "markdown",
   "metadata": {},
   "source": [
    "And we see that this has worked by checking the categories for the subset"
   ]
  },
  {
   "cell_type": "code",
   "execution_count": null,
   "metadata": {},
   "outputs": [],
   "source": [
    "mbdata_subset.obs['ClusterName'].cat.categories"
   ]
  },
  {
   "cell_type": "markdown",
   "metadata": {},
   "source": [
    "Finally, let's remove the `mbdata` object to free up some memory for the analysis"
   ]
  },
  {
   "cell_type": "code",
   "execution_count": null,
   "metadata": {},
   "outputs": [],
   "source": [
    "del mbdata"
   ]
  },
  {
   "cell_type": "code",
   "execution_count": null,
   "metadata": {},
   "outputs": [],
   "source": [
    "del mbdata_subset"
   ]
  },
  {
   "cell_type": "markdown",
   "metadata": {},
   "source": [
    "<div class=\"alert alert-block alert-warning\">\n",
    "<b>End saection Using Mouse Brain data </b> \n",
    "</div>"
   ]
  },
  {
   "cell_type": "markdown",
   "metadata": {},
   "source": [
    "## Removing any cells that are probably dying\n",
    "\n",
    "We identify dying cells by having a high fraction of mitochondrial genes."
   ]
  },
  {
   "cell_type": "code",
   "execution_count": null,
   "metadata": {},
   "outputs": [],
   "source": [
    "mito_genes = [name for name in data.var_names if name.startswith(('mt-', 'MT-'))]"
   ]
  },
  {
   "cell_type": "markdown",
   "metadata": {},
   "source": [
    "For each cell compute fraction of counts in mito genes vs. all genes. The `.A1` is only necessary because X is a sparse matrix. It transforms to a dense matrix (2D array) after summing."
   ]
  },
  {
   "cell_type": "code",
   "execution_count": null,
   "metadata": {},
   "outputs": [],
   "source": [
    "data.obs['frac_mito'] = np.sum(data[:, mito_genes].X, axis=1).A1 / np.sum(data.X, axis=1).A1"
   ]
  },
  {
   "cell_type": "markdown",
   "metadata": {},
   "source": [
    "Add the total counts per cell as observations-annotation to data"
   ]
  },
  {
   "cell_type": "code",
   "execution_count": null,
   "metadata": {},
   "outputs": [],
   "source": [
    "data.obs['n_counts'] = data.X.sum(axis=1).A1"
   ]
  },
  {
   "cell_type": "markdown",
   "metadata": {},
   "source": [
    "Computing how many genes are expressed in each cell"
   ]
  },
  {
   "cell_type": "code",
   "execution_count": null,
   "metadata": {},
   "outputs": [],
   "source": [
    "data.obs['n_genes'] = np.sum(data.X > 0, axis=1).A1"
   ]
  },
  {
   "cell_type": "markdown",
   "metadata": {},
   "source": [
    "Computing in how many cells a gene is found. At the moment I do not use this info in the analysis."
   ]
  },
  {
   "cell_type": "code",
   "execution_count": null,
   "metadata": {},
   "outputs": [],
   "source": [
    "data.var['n_cells'] = np.sum(data.X > 0, axis=0).A1"
   ]
  },
  {
   "cell_type": "markdown",
   "metadata": {},
   "source": [
    "<div class=\"alert alert-block alert-warning\">\n",
    "Modify the cut-off threshold to see how it affects the figure below.\n",
    "</div>"
   ]
  },
  {
   "cell_type": "code",
   "execution_count": null,
   "metadata": {},
   "outputs": [],
   "source": [
    "MITO_CUTOFF = 0.1"
   ]
  },
  {
   "cell_type": "markdown",
   "metadata": {},
   "source": [
    "Below we create a figure with four plots. The top row contains two plots relating mitochondrial expression against total expression in the cell (top-left) and against the number of expressed genes per cell (top-right).\n",
    "\n",
    "\n",
    "\n",
    "Some info on the arguments used in the various functions:\n",
    "\n",
    "- in `plt.subplots`, `figsize` is expressed in inches.\n",
    "- in `sns.scatterplot`, `s` = size of dots, and `alpha` = transparency level of a dot."
   ]
  },
  {
   "cell_type": "markdown",
   "metadata": {},
   "source": [
    "<div class=\"alert alert-block alert-info\">\n",
    "    I prefer to use <var>seaborn</var> (sns) plotting functions as I can easily adjust them for a good looking plot. Alternatively, <var>scanpy</var> has its own scatterplot function, named <var>sc.pl.scatter</var>, as you can see in the commented-out code.\n",
    "</div>"
   ]
  },
  {
   "cell_type": "markdown",
   "metadata": {},
   "source": [
    "<div class=\"alert alert-block alert-warning\">\n",
    "    The variable <var>min_count</var> allows us to temporarily filter out the genes that are detected in 0 or few cells. Modify it and see how this affects the data.\n",
    "</div>"
   ]
  },
  {
   "cell_type": "code",
   "execution_count": null,
   "metadata": {},
   "outputs": [],
   "source": [
    "min_count = 0\n",
    "\n",
    "fig, axs = plt.subplots(nrows=2, ncols=2, figsize=(10, 10));\n",
    "sns.despine(fig)\n",
    "\n",
    "# Plot the fraction of mito expression per total expression in a cell\n",
    "sns.scatterplot(x=data.obs['n_counts'], y=data.obs['frac_mito'], s=15, alpha=0.5, ax=axs[0, 0]);\n",
    "axs[0, 0].set(xlabel='Total counts / cell', ylabel='Fraction mito counts / cell');\n",
    "#sc.pl.scatter(data, x='n_counts', y='frac_mito', ax=axs[0, 0]);\n",
    "axs[0, 0].axhline(y=MITO_CUTOFF);\n",
    "\n",
    "# Plot the fraction of mito expression per nr of expressed genes in a cell\n",
    "sns.scatterplot(x=data.obs['n_genes'], y=data.obs['frac_mito'], s=15, alpha=0.5, ax=axs[0, 1]);\n",
    "axs[0, 1].set(xlabel='Genes with expression / cell', ylabel='Fraction mito counts / cell');\n",
    "#sc.pl.scatter(data, x='n_genes', y='percent_mito', ax=axs[0, 1]);\n",
    "axs[0, 1].axhline(y=MITO_CUTOFF);\n",
    "\n",
    "# Plot nr of expressed genes against total expression\n",
    "sns.scatterplot(x=data.obs['n_genes'], y=data.obs['n_counts'], s=15, alpha=0.5, ax=axs[1, 0])\n",
    "axs[1, 0].set(xlabel='Genes with expression / cell', ylabel='Total counts / cell');\n",
    "#sc.pl.scatter(data, x='n_genes', y='n_counts', ax=axs[1, 0]);\n",
    "\n",
    "# Plot distribution of nr of cells in which a gene was (detected to be) expressed\n",
    "aux = data.var['n_cells'][data.var['n_cells'] >= min_count]\n",
    "sns.distplot(aux, bins=50, kde=False, ax=axs[1, 1]);\n",
    "axs[1, 1].set(xlabel='Gene detected in $n$ cells', ylabel='Nr of cells');"
   ]
  },
  {
   "cell_type": "markdown",
   "metadata": {},
   "source": [
    "#### Save the figure as a PDF"
   ]
  },
  {
   "cell_type": "code",
   "execution_count": null,
   "metadata": {},
   "outputs": [],
   "source": [
    "fig.savefig(os.path.join(FIGURES_PATH, 'mito_quality_control.pdf'))"
   ]
  },
  {
   "cell_type": "markdown",
   "metadata": {},
   "source": [
    "<div class=\"alert alert-block alert-info\">\n",
    "    If you prefer to generate a PNG plot, use the parameter <var>dpi</var> (\"dots per inch\" ~ resolution) to change the quality of the image. For screens, <code>dpi=90</code> is usually sufficient. For printing, set <code>dpi=300</code> or higher.\n",
    "</div>"
   ]
  },
  {
   "cell_type": "code",
   "execution_count": null,
   "metadata": {},
   "outputs": [],
   "source": [
    "fig.savefig(os.path.join(FIGURES_PATH, 'mito_quality_control.png'), dpi=90)"
   ]
  },
  {
   "cell_type": "markdown",
   "metadata": {},
   "source": [
    "#### Observations:\n",
    "\n",
    "- There are many genes that are detected in very few cells.\n",
    "- In fact, ~10k genes (of a total of ~30k) are not detected in any cell.\n",
    "- Conversely, there are a few genes detected in many cells."
   ]
  },
  {
   "cell_type": "markdown",
   "metadata": {},
   "source": [
    "How many cells do we classify as dying?"
   ]
  },
  {
   "cell_type": "code",
   "execution_count": null,
   "metadata": {},
   "outputs": [],
   "source": [
    "n_dying = np.sum(data.obs['frac_mito'] >= MITO_CUTOFF)\n",
    "n_alive = np.sum(data.obs['frac_mito'] < MITO_CUTOFF)\n",
    "\n",
    "print(\"Dying: {}\\nAlive: {}\".format(n_dying, n_alive))"
   ]
  },
  {
   "cell_type": "markdown",
   "metadata": {},
   "source": [
    "We remove cells that have a high fraction of mito genes."
   ]
  },
  {
   "cell_type": "code",
   "execution_count": null,
   "metadata": {},
   "outputs": [],
   "source": [
    "data = data[data.obs['frac_mito'] < MITO_CUTOFF, :]"
   ]
  },
  {
   "cell_type": "markdown",
   "metadata": {},
   "source": [
    "Let's throw out the cells with very few genes and the genes detected in very few cells"
   ]
  },
  {
   "cell_type": "code",
   "execution_count": null,
   "metadata": {},
   "outputs": [],
   "source": [
    "sc.pp.filter_cells(data, min_genes=8)\n",
    "sc.pp.filter_genes(data, min_cells=3)"
   ]
  },
  {
   "cell_type": "markdown",
   "metadata": {},
   "source": [
    "<div class=\"alert alert-block alert-warning\">\n",
    "    Playing with the values for <var>min_genes</var> and <var>min_cells</var> can have surprising effects on the analysis results in the rest of the notebook. I suggest you do not touch the current values during the first analysis. Once you have gone through the entire notebook, feel free to modify them and see how they change the outcome.\n",
    "</div>"
   ]
  },
  {
   "cell_type": "markdown",
   "metadata": {},
   "source": [
    "## Looking at highly expressed genes"
   ]
  },
  {
   "cell_type": "markdown",
   "metadata": {},
   "source": [
    "<div class=\"alert alert-block alert-warning\">\n",
    "    Listing the most expressed genes. Change the value of `top` to get more or less genes.\n",
    "</div>"
   ]
  },
  {
   "cell_type": "code",
   "execution_count": null,
   "metadata": {},
   "outputs": [],
   "source": [
    "top = 10"
   ]
  },
  {
   "cell_type": "markdown",
   "metadata": {},
   "source": [
    "Sum over all the genes to compute their total expression across cells."
   ]
  },
  {
   "cell_type": "code",
   "execution_count": null,
   "metadata": {},
   "outputs": [],
   "source": [
    "maxs = data.X.sum(axis=0).A1"
   ]
  },
  {
   "cell_type": "markdown",
   "metadata": {},
   "source": [
    "Partially sort the list of total expression `maxs` and take the indices of the `top` most expressed genes."
   ]
  },
  {
   "cell_type": "code",
   "execution_count": null,
   "metadata": {},
   "outputs": [],
   "source": [
    "indices = np.argpartition(maxs, kth=len(maxs)-top)[-top:]"
   ]
  },
  {
   "cell_type": "markdown",
   "metadata": {},
   "source": [
    "Use these indices to retrieve the gene names, sort them in alphabetical order, and convert the output to a simple list"
   ]
  },
  {
   "cell_type": "code",
   "execution_count": null,
   "metadata": {},
   "outputs": [],
   "source": [
    "most_expressed = data.var_names[indices].sort_values().tolist()\n",
    "most_expressed"
   ]
  },
  {
   "cell_type": "markdown",
   "metadata": {},
   "source": [
    "Funnily enough, mitochondrial genes ('mt-') are amongst the most highly expressed ones!"
   ]
  },
  {
   "cell_type": "markdown",
   "metadata": {},
   "source": [
    "## Looking at highly expressed transcription factors"
   ]
  },
  {
   "cell_type": "code",
   "execution_count": null,
   "metadata": {},
   "outputs": [],
   "source": [
    "def read_known_transcription_factors():\n",
    "    \"\"\"\n",
    "    Get a list of transcription factor (TF) gene names from a file downloaded \n",
    "    from http://genome.gsc.riken.jp/TFdb/tf_list.html\n",
    "    \n",
    "    The code looks complicated, but it simply opens the file and parses all \n",
    "    the table rows for the gene names.\n",
    "    \"\"\"\n",
    "    with open(TF_LIST_FNAME) as infile:\n",
    "        return set([line.split('<td')[3][1:-5] for line in infile if line.startswith('<tr>')])"
   ]
  },
  {
   "cell_type": "code",
   "execution_count": null,
   "metadata": {},
   "outputs": [],
   "source": [
    "TFs = read_known_transcription_factors()"
   ]
  },
  {
   "cell_type": "markdown",
   "metadata": {},
   "source": [
    "Filtering the transcription factor list to make sure we only have gene names that are also found in the data."
   ]
  },
  {
   "cell_type": "code",
   "execution_count": null,
   "metadata": {},
   "outputs": [],
   "source": [
    "transfac_genes = [name for name in data.var_names if name in TFs]"
   ]
  },
  {
   "cell_type": "markdown",
   "metadata": {},
   "source": [
    "And which are the most expressed transcription factors? Let's look at the top 10."
   ]
  },
  {
   "cell_type": "code",
   "execution_count": null,
   "metadata": {},
   "outputs": [],
   "source": [
    "top = 10"
   ]
  },
  {
   "cell_type": "markdown",
   "metadata": {},
   "source": [
    "Instead of summing over all genes in the data, here we only sum over the transcription factors. The rest of the code has been commented on above."
   ]
  },
  {
   "cell_type": "code",
   "execution_count": null,
   "metadata": {},
   "outputs": [],
   "source": [
    "maxs = data[:, transfac_genes].X.sum(axis=0).A1\n",
    "indices = np.argpartition(maxs, kth=len(maxs)-top)[-top:]\n",
    "most_expressed_tfs = data[:, transfac_genes].var_names[indices].sort_values().tolist()\n",
    "most_expressed_tfs"
   ]
  },
  {
   "cell_type": "markdown",
   "metadata": {},
   "source": [
    "Look at gene expression across cells and save the figure as a PDF."
   ]
  },
  {
   "cell_type": "code",
   "execution_count": null,
   "metadata": {},
   "outputs": [],
   "source": [
    "fig, ax = plt.subplots(1, 1, figsize=(7.5, 3.5))\n",
    "\n",
    "for gname in most_expressed_tfs:\n",
    "    # `reverse=True` sorts the data from high to low.\n",
    "    pd.Series(sorted(data[:, data.var_names == gname].X, reverse=True)).plot(label=gname, ax=ax);\n",
    "\n",
    "ax.set(xlabel='Cells, sorted by count (i.e. expression level)', ylabel='Count / cell')\n",
    "ax.legend();\n",
    "\n",
    "fig.savefig(os.path.join(FIGURES_PATH, 'highly_expressed_transcription_factors.pdf'))"
   ]
  },
  {
   "cell_type": "markdown",
   "metadata": {},
   "source": [
    "`scanpy` offers a box-whisker visualization. Uncomment & run the code below, if you want to see what it looks like"
   ]
  },
  {
   "cell_type": "code",
   "execution_count": null,
   "metadata": {},
   "outputs": [],
   "source": [
    "#sc.pl.highest_expr_genes(data, n_top=20)"
   ]
  },
  {
   "cell_type": "markdown",
   "metadata": {},
   "source": [
    "# Summary of what we have done so far.\n",
    "\n",
    "- We have read in the data.\n",
    "- We removed dying cells by checking for the fraction of expressed mitochondrial genes.\n",
    "- And we checked which genes and TFs are expressed most.\n",
    "\n",
    "Now we are ready to reduce the dimensions of the huge, but rather sparse, matrix of mRNA counts, cluster the cells, and visualize these clusters."
   ]
  },
  {
   "cell_type": "markdown",
   "metadata": {},
   "source": [
    "# Option: select a subset of cells for analysis\n",
    "\n",
    "Below I provide a function that allows you to select only those cells that have non-zero expression for a given gene. I do not use this functionality normally, but it can be helpful to focus on specific cells."
   ]
  },
  {
   "cell_type": "code",
   "execution_count": null,
   "metadata": {},
   "outputs": [],
   "source": [
    "def select_cells_expressing_gene(data, gene):\n",
    "    \"\"\"Select cells (rows) in the matrix that have nonzero values for the given gene.\"\"\"\n",
    "    return data[data[:, gene].X > 0,]"
   ]
  },
  {
   "cell_type": "markdown",
   "metadata": {},
   "source": [
    "Define your list of favorite genes."
   ]
  },
  {
   "cell_type": "code",
   "execution_count": null,
   "metadata": {},
   "outputs": [],
   "source": [
    "favorite_genes = ['Cux1', 'Rbfox3', 'Reln']"
   ]
  },
  {
   "cell_type": "markdown",
   "metadata": {},
   "source": [
    "Below I make a (shallow) copy of the data set. In the for-loop we select in each iteration only those cells that express the favorite gene."
   ]
  },
  {
   "cell_type": "code",
   "execution_count": null,
   "metadata": {},
   "outputs": [],
   "source": [
    "fav_data = data\n",
    "for fg in favorite_genes:\n",
    "    fav_data = select_cells_expressing_gene(fav_data, fg)\n",
    "\n",
    "print(fav_data)"
   ]
  },
  {
   "cell_type": "markdown",
   "metadata": {},
   "source": [
    "# Normalization and filtering for genes with variable expression"
   ]
  },
  {
   "cell_type": "code",
   "execution_count": null,
   "metadata": {},
   "outputs": [],
   "source": [
    "def normalize_and_log(data, counts=1e4):\n",
    "    \"\"\"\n",
    "    Normalize umi counts to 10k per cell, and take the log of the data.\n",
    "    \"\"\"\n",
    "    data.raw = data\n",
    "    sc.pp.normalize_per_cell(data, counts_per_cell_after=counts)\n",
    "    sc.pp.log1p(data)\n",
    "    return data\n",
    "\n",
    "def filter_by_expr_dispersion(data, min_mean=0.0, max_mean=100.0, min_disp=0.05,\n",
    "                              n_bins=50, dry_run=True):\n",
    "    \"\"\"\n",
    "    min_mean: minimal level of gene expression to consider.\n",
    "    max_mean: maximal level of gene expression.\n",
    "    min_disp: minimal level of dispersion to consider.\n",
    "    n_bins: number of bins to divide the distribution of expression levels over. \n",
    "            The bins go from low mean expression levels to high ones.\n",
    "    \n",
    "    The default parameter values were established through trial and error. They \n",
    "    worked for my particular data set, and they will have to be recalibrated for \n",
    "    each data set.\n",
    "    \n",
    "    Return log expression data.\n",
    "    \"\"\"\n",
    "    old_verbo = sc.settings.verbosity\n",
    "    # I want lots of feedback from the algorithm\n",
    "    if dry_run:\n",
    "        sc.settings.verbosity = 4\n",
    "        filter_result = sc.pp.highly_variable_genes(data, \n",
    "            min_mean=min_mean, max_mean=max_mean, min_disp=min_disp, max_disp=20.0,\n",
    "            n_bins=n_bins, inplace=False)\n",
    "    \n",
    "        # Plot the filtering result, even if I do not find the plots very intuitive.\n",
    "        sc.pl.highly_variable_genes(filter_result)\n",
    "        sc.settings.verbosity = old_verbo\n",
    "        return filter_result\n",
    "    \n",
    "    else:\n",
    "        # Do the actual filtering\n",
    "        sc.pp.highly_variable_genes(data, \n",
    "            min_mean=min_mean, max_mean=max_mean, min_disp=min_disp, max_disp=20.0,\n",
    "            n_bins=n_bins)\n",
    "    return data"
   ]
  },
  {
   "cell_type": "markdown",
   "metadata": {},
   "source": [
    "The function below has as a side effect that the original data is stored in a *raw* attribute of `data`. Check it by inspecting `data` (remember `print`!)."
   ]
  },
  {
   "cell_type": "code",
   "execution_count": null,
   "metadata": {},
   "outputs": [],
   "source": [
    "data = normalize_and_log(data)"
   ]
  },
  {
   "cell_type": "markdown",
   "metadata": {},
   "source": [
    "<div class=\"alert alert-block alert-warning\">\n",
    "Modify the number of bins if you get the message that there are many \"single genes per bin\". It usually means that you should reduce `n_bins`.\n",
    "</div>"
   ]
  },
  {
   "cell_type": "code",
   "execution_count": null,
   "metadata": {},
   "outputs": [],
   "source": [
    "n_bins = 35"
   ]
  },
  {
   "cell_type": "markdown",
   "metadata": {},
   "source": [
    "<div class=\"alert alert-block alert-info\">\n",
    "    Before filtering for highly variable genes, make sure to take the logarithm of the data. The function <code>normalize_and_log</code> takes care of this.\n",
    "</div>"
   ]
  },
  {
   "cell_type": "markdown",
   "metadata": {},
   "source": [
    "I set `min_mean=0.0` to not lose transcription factors that are expressed at very low levels. And I set `max_mean=10.0` to simply have all the data. An alternative idea could be to focus only on lowly expressed genes, assuming those are more likely to be TFs. This means `max_mean=1.0` or even lower."
   ]
  },
  {
   "cell_type": "code",
   "execution_count": null,
   "metadata": {},
   "outputs": [],
   "source": [
    "min_mean, max_mean, min_disp = 0.0, 10.0, 0.05\n",
    "result = filter_by_expr_dispersion(data, min_mean, max_mean, min_disp, n_bins, dry_run=True)"
   ]
  },
  {
   "cell_type": "markdown",
   "metadata": {},
   "source": [
    "Do the actual filtering, above was just a trial to see what the graphs look like."
   ]
  },
  {
   "cell_type": "code",
   "execution_count": null,
   "metadata": {},
   "outputs": [],
   "source": [
    "data = filter_by_expr_dispersion(data, min_mean, max_mean, min_disp, n_bins, dry_run=False)"
   ]
  },
  {
   "cell_type": "markdown",
   "metadata": {},
   "source": [
    "<div class=\"alert alert-block alert-warning\">\n",
    "    Depending on the data set, people regress out certain factors (or not). To know what is best for your specific data set, you simply need to check which regression gives better clustering results... and yes that is a bit dependent on the researcher doing the interpretation.\n",
    "</div>"
   ]
  },
  {
   "cell_type": "code",
   "execution_count": null,
   "metadata": {},
   "outputs": [],
   "source": [
    "#sc.pp.regress_out(data, ['n_counts', 'frac_mito'])\n",
    "sc.pp.regress_out(data, ['n_counts'])\n",
    "sc.pp.scale(data)"
   ]
  },
  {
   "cell_type": "markdown",
   "metadata": {},
   "source": [
    "# Dimension reduction\n",
    "\n",
    "As most people, I first do a Principal Component Analysis (PCA) to reduce the dimensions of the huge data matrix. This is not the only way to deal with single cell RNAseq data. Other approaches include:\n",
    "\n",
    "- Independent Component Analysis (ICA), which is implemented in the Python package *scikit-learn*\n",
    "- Iterative Clustering for Identifying Markers (ICIM), as used in the following article <https://www.cell.com/cell/fulltext/S0092-8674(17)31241-2>. The corresponding Python package is found here: <https://github.com/felixhorns/FlyPN>."
   ]
  },
  {
   "cell_type": "code",
   "execution_count": null,
   "metadata": {},
   "outputs": [],
   "source": [
    "sc.tl.pca(data, n_comps=30, svd_solver='arpack')\n",
    "sc.pl.pca_variance_ratio(data, log=True, save=True)"
   ]
  },
  {
   "cell_type": "markdown",
   "metadata": {},
   "source": [
    "On the basis of the variance ratio graph, I pick the n first PCs. The idea is to stop including PCs as the curve flattens."
   ]
  },
  {
   "cell_type": "code",
   "execution_count": null,
   "metadata": {},
   "outputs": [],
   "source": [
    "pcs_used = 23"
   ]
  },
  {
   "cell_type": "markdown",
   "metadata": {},
   "source": [
    "# Clustering and visualization"
   ]
  },
  {
   "cell_type": "code",
   "execution_count": null,
   "metadata": {},
   "outputs": [],
   "source": [
    "def plot_graph(data, seed, dotsize, ax):\n",
    "    \"\"\"\n",
    "    Spring-based projection with pretty colouring of the Louvain clusters.\n",
    "    \"\"\"\n",
    "    # Set nice colours\n",
    "    data.uns['louvain_colors'] = [mpcol.to_hex(c) for c in sns.color_palette(\n",
    "        \"hls\", len(data.obs['louvain'].cat.categories))]\n",
    "    \n",
    "    # Prepare plot if we did not get one\n",
    "    if not ax:\n",
    "        fig, ax = plt.subplots(1, 1, figsize=(10, 10))\n",
    "    else:\n",
    "        fig = ax.get_figure()\n",
    "    \n",
    "    # Fill in a default value\n",
    "    if not dotsize:\n",
    "        dotsize = 12\n",
    "    \n",
    "    # Plot\n",
    "    sc.tl.draw_graph(data, random_state=seed)\n",
    "    sc.pl.draw_graph(data, color='louvain', size=dotsize, \n",
    "        title='Spring-based projection', legend_loc='on data', show=False, ax=ax)\n",
    "    return data, fig, ax\n",
    "\n",
    "def plot_umap(data, seed, dotsize, ax):\n",
    "    \"\"\"\n",
    "    UMAP projection and pretty colouring of the Louvain clusters.\n",
    "    \"\"\"\n",
    "    # Colours\n",
    "    data.uns['louvain_colors'] = [mpcol.to_hex(c) for c in sns.color_palette(\n",
    "        \"hls\", len(data.obs['louvain'].cat.categories))]\n",
    "    \n",
    "    # Prepare plot if we did not get one\n",
    "    if not ax:\n",
    "        fig, ax = plt.subplots(1, 1, figsize=(10, 10))\n",
    "    else:\n",
    "        fig = ax.get_figure()    \n",
    "    \n",
    "    # Fill in a default value\n",
    "    if not dotsize:\n",
    "        dotsize = 12\n",
    "    \n",
    "    # Plot\n",
    "    sc.tl.umap(data, random_state=seed)\n",
    "    sc.pl.umap(data, color='louvain', size=dotsize, \n",
    "        title='UMAP projection', legend_loc='on data', show=False, ax=ax)\n",
    "    return data, fig, ax\n",
    "\n",
    "def plot_tsne(data, pcs_used, seed, dotsize, ax):\n",
    "    \"\"\"\n",
    "    tSNE projection and colouring of Louvain clusters.\n",
    "    \"\"\"\n",
    "    # Colours\n",
    "    data.uns['louvain_colors'] = [mpcol.to_hex(c) for c in sns.color_palette(\n",
    "        \"hls\", len(data.obs['louvain'].cat.categories))]\n",
    "\n",
    "    # Prepare plot if we did not get one\n",
    "    if not ax:\n",
    "        fig, ax = plt.subplots(1, 1, figsize=(10, 10))\n",
    "    else:\n",
    "        fig = ax.get_figure()\n",
    "    \n",
    "    # Fill in a default value\n",
    "    if not dotsize:\n",
    "        dotsize = 12\n",
    "    \n",
    "    # Plot\n",
    "    sc.tl.tsne(data, n_pcs=pcs_used, random_state=seed)\n",
    "    sc.pl.tsne(data, color='louvain', size=dotsize,\n",
    "        legend_loc='on data', title='tSNE projection', show=False, ax=ax)\n",
    "    return data, fig, ax"
   ]
  },
  {
   "cell_type": "markdown",
   "metadata": {},
   "source": [
    "Calculating the neigborhood graph approximates the high-dimensional manifold on which our cells \"live\". Next, the Louvain clustering algorithm finds \"communities\" of cells on the graph."
   ]
  },
  {
   "cell_type": "markdown",
   "metadata": {},
   "source": [
    "<div class=\"alert alert-block alert-warning\">\n",
    "    A low number of neighbors (e.g. nbs=5) will give a more local shape of the manifold, while a high number (e.g. nbs=250) will give a more global shape of the manifold. These numbers are relative to the total number of cells we have; you cannot look at more neighbors than you have cells.\n",
    "</div>"
   ]
  },
  {
   "cell_type": "code",
   "execution_count": null,
   "metadata": {},
   "outputs": [],
   "source": [
    "nbs = 25\n",
    "sc.pp.neighbors(data, n_pcs=pcs_used, n_neighbors=nbs)\n",
    "sc.tl.louvain(data)"
   ]
  },
  {
   "cell_type": "markdown",
   "metadata": {},
   "source": [
    "Prepare a figure to show three 2D projections of the cells and colour them by Louvain communities (=clusters). \n",
    "Be careful interpreting the tSNE projection, see <https://distill.pub/2016/misread-tsne/>. Also, note that the `seed` and `dotsize` variables are re-used in all three plots."
   ]
  },
  {
   "cell_type": "code",
   "execution_count": null,
   "metadata": {},
   "outputs": [],
   "source": [
    "seed = 18\n",
    "dotsize = 12\n",
    "\n",
    "fig, axes = plt.subplots(1, 3, figsize=(15, 5.02))\n",
    "\n",
    "# Plot the \"classical\" tSNE projection\n",
    "_ = plot_tsne(data, pcs_used, seed, dotsize, axes[0])\n",
    "\n",
    "# Plot the UMAP projection, which maintains the distances between clusters better than tSNE\n",
    "_ = plot_umap(data, seed, dotsize, axes[1])\n",
    "\n",
    "# Plot a spring-based projection, a classical algorithm to project graphs onto 2D\n",
    "_ = plot_graph(data, seed, dotsize, axes[2])"
   ]
  },
  {
   "cell_type": "markdown",
   "metadata": {},
   "source": [
    "<div class=\"alert alert-block alert-info\">\n",
    "    For those who want to improve their Python coding skills: if you know a function returns a value, but you do not care about it, the convention is to using an underscore (<var> _ </var>) as a variable name. See <a href=\"https://stackoverflow.com/questions/5893163/what-is-the-purpose-of-the-single-underscore-variable-in-python\"> this StackOverflow question and answer</a> for more info.\n",
    "</div>"
   ]
  },
  {
   "cell_type": "code",
   "execution_count": null,
   "metadata": {},
   "outputs": [],
   "source": [
    "fig.savefig(os.path.join(FIGURES_PATH, 'three_projections_with_louvain_clusters_{}.pdf'.format(timestamp())))"
   ]
  },
  {
   "cell_type": "markdown",
   "metadata": {},
   "source": [
    "# Looking for marker genes"
   ]
  },
  {
   "cell_type": "markdown",
   "metadata": {},
   "source": [
    "Different statistical tests can be used to compute marker genes, that is genes that define each of the clusters by being differentially expressed. Below I have commented out the `t-test`, because I prefer to use the `logreg` one. The latter is supposed to be a good method, as it is a multivariate test, and the conventional ones are univariate."
   ]
  },
  {
   "cell_type": "code",
   "execution_count": null,
   "metadata": {
    "scrolled": true
   },
   "outputs": [],
   "source": [
    "#sc.tl.rank_genes_groups(data, 'louvain', method='t-test')\n",
    "sc.tl.rank_genes_groups(data, 'louvain', method='logreg')"
   ]
  },
  {
   "cell_type": "markdown",
   "metadata": {},
   "source": [
    "Create an ugly, but informative plot of top n genes and their scores. It is useful to first plot many genes, as you can easily see how many genes appear to be important for each of the clusters."
   ]
  },
  {
   "cell_type": "code",
   "execution_count": null,
   "metadata": {},
   "outputs": [],
   "source": [
    "top = 40\n",
    "sc.pl.rank_genes_groups(data, n_genes=top, sharey=False)"
   ]
  },
  {
   "cell_type": "markdown",
   "metadata": {},
   "source": [
    "The above plots indicate that the first 5 to 8 genes seem to make the difference"
   ]
  },
  {
   "cell_type": "code",
   "execution_count": null,
   "metadata": {},
   "outputs": [],
   "source": [
    "pd.DataFrame(data.uns['rank_genes_groups']['names']).head(8)"
   ]
  },
  {
   "cell_type": "markdown",
   "metadata": {},
   "source": [
    "Look at the top transcription factors in each of the clusters. Note that `NaN` means \"not a number\", in other words an empty entry in the table."
   ]
  },
  {
   "cell_type": "code",
   "execution_count": null,
   "metadata": {},
   "outputs": [],
   "source": [
    "top = 10\n",
    "\n",
    "result = []\n",
    "for colname, ranking in pd.DataFrame(data.uns['rank_genes_groups']['names']).iteritems():\n",
    "    result.append(pd.Series([gname for gname in ranking if gname in transfac_genes]))\n",
    "transfac_marker_genes = pd.concat(result, axis=1)[:top]\n",
    "transfac_marker_genes"
   ]
  },
  {
   "cell_type": "markdown",
   "metadata": {},
   "source": [
    "Selecting the top 3 transcription factors of each cluster (3 * 14 = 42 genes, minus duplicates) for visualisation."
   ]
  },
  {
   "cell_type": "code",
   "execution_count": null,
   "metadata": {},
   "outputs": [],
   "source": [
    "tmp = transfac_marker_genes.head(3).values.flatten().tolist()\n",
    "# Remove 'nan' values\n",
    "tmp = sorted(set([x for x in tmp if str(x) != 'nan']))\n",
    "\n",
    "sc.tl.dendrogram(data, groupby='louvain', n_pcs=pcs_used, linkage_method='ward')\n",
    "axes = sc.pl.stacked_violin(data, tmp, groupby='louvain', dendrogram=True, figsize=(7.5, 7.5));"
   ]
  },
  {
   "cell_type": "markdown",
   "metadata": {},
   "source": [
    "Save the violinplot"
   ]
  },
  {
   "cell_type": "code",
   "execution_count": null,
   "metadata": {},
   "outputs": [],
   "source": [
    "fig = axes[0].get_figure()\n",
    "fig.savefig(os.path.join(FIGURES_PATH, 'violin_transfac_louvain_clusters_{}.pdf'.format(timestamp())))"
   ]
  },
  {
   "cell_type": "markdown",
   "metadata": {},
   "source": [
    "<div class=\"alert alert-block alert-danger\">\n",
    "    If you compare the above violin plot to the dot plot and the matrix plot below, you see that the dendrograms are mirrored... one of the two is wrong. I think the violin plot is wrong. \n",
    "</div>"
   ]
  },
  {
   "cell_type": "markdown",
   "metadata": {},
   "source": [
    "We can also get the result visualized as a *dotplot*."
   ]
  },
  {
   "cell_type": "code",
   "execution_count": null,
   "metadata": {},
   "outputs": [],
   "source": [
    "ax = sc.pl.dotplot(data, tmp, groupby='louvain', dendrogram=True, standard_scale='group')"
   ]
  },
  {
   "cell_type": "markdown",
   "metadata": {},
   "source": [
    "And we can get the result visualized as a *matrixplot*."
   ]
  },
  {
   "cell_type": "code",
   "execution_count": null,
   "metadata": {},
   "outputs": [],
   "source": [
    "ax = sc.pl.matrixplot(data, tmp, groupby='louvain', dendrogram=True, standard_scale='var', figsize=(15, 5))"
   ]
  },
  {
   "cell_type": "markdown",
   "metadata": {},
   "source": [
    "Some observations (please be aware that cluster labels change easily with changes in parameters):\n",
    "\n",
    "- Junb splits the data set into two. Junb is high in clusters 3, 5, and 12; still appears in 1 and 8, and is hardly present in the others.\n",
    "- Olig1 defines cluster 7.\n",
    "- Kf2 defines cluster 1.\n",
    "- Fos defines cluster 8.\n",
    "\n",
    "- Cluster 0 and 2 are very alike, defined by Taf13, Taf1c, and Ugp2.\n",
    "- Cluster 6 and 11 are alike on the basis of Sirt2."
   ]
  },
  {
   "cell_type": "markdown",
   "metadata": {},
   "source": [
    "# Defining the clusters using known markers"
   ]
  },
  {
   "cell_type": "markdown",
   "metadata": {},
   "source": [
    "<div class=\"alert alert-block alert-warning\">\n",
    "    Below I have listed many known marker genes harvested from the scientific literature. Add your own genes as you see fit!\n",
    "</div>"
   ]
  },
  {
   "cell_type": "markdown",
   "metadata": {},
   "source": [
    "#### Arteries and other blood vessels"
   ]
  },
  {
   "cell_type": "code",
   "execution_count": null,
   "metadata": {},
   "outputs": [],
   "source": [
    "VASCULAR = ['Acta2', 'Cd93', 'Cldn5', 'Cxcl12', 'Tagln']"
   ]
  },
  {
   "cell_type": "markdown",
   "metadata": {},
   "source": [
    "#### Macrophages that direct the immune response in the CNS"
   ]
  },
  {
   "cell_type": "code",
   "execution_count": null,
   "metadata": {},
   "outputs": [],
   "source": [
    "MICROGLIAL = ['Aif1', 'C1qa', 'Ctss', 'Cx3cr1', 'Gpr34', 'Hexb', 'Mrc1', \n",
    "    'P2ry12', 'Tmem119']"
   ]
  },
  {
   "cell_type": "markdown",
   "metadata": {},
   "source": [
    "#### Astrocytes link neurons to blood supply, clean up neurotransmitter"
   ]
  },
  {
   "cell_type": "code",
   "execution_count": null,
   "metadata": {},
   "outputs": [],
   "source": [
    "ASTROCYTE = ['A2m', 'Aldh1l1', 'Clcn3', 'Fst', 'Gab1', 'Gfap', 'Glis3', \n",
    "    'Itih5', 'Ogn', 'Osmr', 'Ppp1r15a', 'Rad23b', 'Rdh10', 'Rnf13', 'Rsph9',\n",
    "    'S100a6', 'Tgfbr2', 'Tril']"
   ]
  },
  {
   "cell_type": "markdown",
   "metadata": {},
   "source": [
    "#### Oligodendrocytes wrap nerve fibres with myelin sheath"
   ]
  },
  {
   "cell_type": "code",
   "execution_count": null,
   "metadata": {},
   "outputs": [],
   "source": [
    "OLIGODENDROCYTE = ['Cldn11', 'Cpm', 'Enpp6', 'Fa2h', 'Gjc2', 'Gsn', \n",
    "    'Mag', 'Mal', 'Mbp', 'Mobp', 'Mog', 'Olig1', 'Olig2', 'Sox10']"
   ]
  },
  {
   "cell_type": "markdown",
   "metadata": {},
   "source": [
    "#### Neuronal genes specific to the piriform cortex taken from *Diodato et al. 2015 Nat Comm*."
   ]
  },
  {
   "cell_type": "code",
   "execution_count": null,
   "metadata": {},
   "outputs": [],
   "source": [
    "PIRIFORM_NEURON = ['Btbd3', 'Cacna1s', 'Cartpt', 'Cbx6', 'Dpf1', 'Fgfr2', \n",
    "    'Foxp2', 'Id1', 'Id4', 'Kcng1', 'Lmo3', 'Lrp4', 'Mical1', 'Neurod6', 'Otx1', \n",
    "    'Prdm8', 'Prrx1', 'Pvalb', 'Reln', 'Robo4', 'Sema3a', 'Slc13a3', 'Slc22a8', \n",
    "    'Sst', 'Vamp5', 'Zic1']"
   ]
  },
  {
   "cell_type": "markdown",
   "metadata": {},
   "source": [
    "#### Neuronal marker genes, mostly studied in neocortical areas."
   ]
  },
  {
   "cell_type": "code",
   "execution_count": null,
   "metadata": {},
   "outputs": [],
   "source": [
    "NEURON = ['Bcl11a', 'Bcl11b', 'Cdh8', 'Cnih3', 'Crh', 'Cux1', 'Dach2', \n",
    "    'Epha7', 'Fezf2', 'Foxp2', 'Gabra1', 'Gabra5', 'Gabrg2', 'Gda', 'Glra2', \n",
    "    'Gpr88', 'Htr2c', 'Kcng1', 'Kcnip4', 'Lmo4', 'Lrrtm4', 'Mal2', 'Mef2c', \n",
    "    'Meis2', 'Neurod6', 'Nfia', 'Nfix', 'Nov', 'Nr2e1', 'Nr2f2', 'Nts', \n",
    "    'Pbx3', 'Pcsk2', 'Pgm2l1', 'Plcxd3', 'Pou3f2', 'Prdm8', 'Pvalb', \n",
    "    'Rbfox3', 'Rfx3', 'Rorb', 'Satb1', 'Satb2', 'Sla', 'Slc12a5', 'Slc9a3r2',\n",
    "    'Snap25', 'Sox4', 'Sox5', 'Sst', 'Stmn2', 'Syt1', 'Tbr1']"
   ]
  },
  {
   "cell_type": "code",
   "execution_count": null,
   "metadata": {},
   "outputs": [],
   "source": [
    "def plot_expression_on_umap(data, genenames, raw, columns=3):\n",
    "    \"\"\"\n",
    "    Given a list of genes, plot in n columns the graph clusters with \n",
    "    gene expression mapped onto them. If raw is True, expression values \n",
    "    before normalization, scaling etc. are used.\n",
    "    \"\"\"   \n",
    "    tmp = [x for x in genenames if x in data.raw.var_names]\n",
    "    for i in range(0, len(tmp), columns):\n",
    "        sc.pl.umap(data, color=tmp[i:(i+columns)], use_raw=raw)        \n",
    "    # Report if gene not found\n",
    "    if raw:\n",
    "        np = [x for x in genenames if x not in data.raw.var_names]\n",
    "    else:\n",
    "        np = [x for x in genenames if x not in data.var_names]\n",
    "    if np:\n",
    "        print(\"Not present:\", np)"
   ]
  },
  {
   "cell_type": "code",
   "execution_count": null,
   "metadata": {},
   "outputs": [],
   "source": [
    "raw = False\n",
    "plot_expression_on_umap(data, VASCULAR[1:-1], raw, 3)"
   ]
  },
  {
   "cell_type": "markdown",
   "metadata": {},
   "source": [
    "Cluster 2 and perhaps also 10 appear vascular."
   ]
  },
  {
   "cell_type": "code",
   "execution_count": null,
   "metadata": {},
   "outputs": [],
   "source": [
    "raw = True\n",
    "plot_expression_on_umap(data, MICROGLIAL, raw, 3)"
   ]
  },
  {
   "cell_type": "markdown",
   "metadata": {},
   "source": [
    "Cluster 1, 7, and 11 appear microglial. As we saw above, they are all defined by Junb. Cluster 9 is not microglial, though."
   ]
  },
  {
   "cell_type": "code",
   "execution_count": null,
   "metadata": {},
   "outputs": [],
   "source": [
    "raw = True\n",
    "plot_expression_on_umap(data, ASTROCYTE, raw, 3)"
   ]
  },
  {
   "cell_type": "markdown",
   "metadata": {},
   "source": [
    "Astrocytes are more difficult to interpret. Cluster 4 seems a \"yes\", and perhaps cluster 7 too."
   ]
  },
  {
   "cell_type": "code",
   "execution_count": null,
   "metadata": {},
   "outputs": [],
   "source": [
    "raw = False\n",
    "plot_expression_on_umap(data, OLIGODENDROCYTE, raw, 3)"
   ]
  },
  {
   "cell_type": "markdown",
   "metadata": {},
   "source": [
    "Two very distinct groups of oligodendrocytes: clusters 5 and 8. And easily missed is cluster 13..."
   ]
  },
  {
   "cell_type": "code",
   "execution_count": null,
   "metadata": {},
   "outputs": [],
   "source": [
    "raw = False\n",
    "plot_expression_on_umap(data, NEURON, raw, 3)"
   ]
  },
  {
   "cell_type": "markdown",
   "metadata": {},
   "source": [
    "## Looking for stem cells and other progenitors"
   ]
  },
  {
   "cell_type": "markdown",
   "metadata": {},
   "source": [
    "Marker genes were taken from *Shibata et al. 2015*. Note that I have added *Sox9* myself, it was not in the article. It overlaps very nicely with the others!"
   ]
  },
  {
   "cell_type": "code",
   "execution_count": null,
   "metadata": {},
   "outputs": [],
   "source": [
    "MAINTENANCE_PROGENITOR = ['Emx1', 'Emx2', 'Foxg1', 'Hes1', 'Hes5', 'Lhx2', 'Pax6', 'Sox9']"
   ]
  },
  {
   "cell_type": "markdown",
   "metadata": {},
   "source": [
    "Note below that *Neurog1,2* = *Ngn1,2* and both are hardly expressed."
   ]
  },
  {
   "cell_type": "code",
   "execution_count": null,
   "metadata": {},
   "outputs": [],
   "source": [
    "EARLY_PROGENITOR = ['Fezf2', 'Id4', 'Ngn1', 'Ngn2', 'Nr2e1']"
   ]
  },
  {
   "cell_type": "markdown",
   "metadata": {},
   "source": [
    "Note below that *Tbr2* is not in the data, and *Tfap2c* has been filtered out during preprocessing."
   ]
  },
  {
   "cell_type": "code",
   "execution_count": null,
   "metadata": {},
   "outputs": [],
   "source": [
    "LATE_PROGENITOR = ['Cux1', 'Cux2', 'Pou3f2', 'Pou3f3', 'Tbr2', 'Tfap2c', 'Insm1']"
   ]
  },
  {
   "cell_type": "code",
   "execution_count": null,
   "metadata": {},
   "outputs": [],
   "source": [
    "plot_expression_on_umap(data, MAINTENANCE_PROGENITOR + EARLY_PROGENITOR, False, 3)"
   ]
  },
  {
   "cell_type": "code",
   "execution_count": null,
   "metadata": {},
   "outputs": [],
   "source": [
    "plot_expression_on_umap(data, LATE_PROGENITOR, True, 3)"
   ]
  },
  {
   "cell_type": "markdown",
   "metadata": {},
   "source": [
    "Cluster 0 and 2 are probably a progenitor pool."
   ]
  },
  {
   "cell_type": "markdown",
   "metadata": {},
   "source": [
    "# Defining the cell types\n",
    "\n",
    "In case the naming of cell types below is not clear, I use the following semi-controlled vocabulary:\n",
    "\n",
    "- progen: progenitor or stem cells\n",
    "- vasc: vascular cells\n",
    "- mglial: microglial cells\n",
    "- astro: astrocytes\n",
    "- oligo: oligodendrocytes\n",
    "- neuro: neurons\n",
    "\n",
    "And I add a question mark (`?`) if I have doubts about the cell type label."
   ]
  },
  {
   "cell_type": "code",
   "execution_count": null,
   "metadata": {},
   "outputs": [],
   "source": [
    "new_cluster_names = [\n",
    "    '0:progen', '1:vasc', '2:progen', '3:mglial',\n",
    "    '4:astro:progen', '5:mglial', '6:oligo', '7:astro?:oligo?',\n",
    "    '8:vasc', '9:?', '10:neuro', '11:oligo',\n",
    "    '12:mglial', '13:neuro']\n",
    "data.rename_categories('louvain', new_cluster_names)"
   ]
  },
  {
   "cell_type": "code",
   "execution_count": null,
   "metadata": {},
   "outputs": [],
   "source": [
    "def plot_named_louvain_clusters(data, cluster_names=None, suffix='celltype.pdf'):\n",
    "    \"\"\"Hack cluster colours. Add names, if given, to the labels.\"\"\"\n",
    "    if cluster_names is not None:\n",
    "        # Old-fashioned way of updating category names\n",
    "        data.obs['louvain'].cat.categories = cluster_names\n",
    "\n",
    "    fig, ax = plt.subplots(1, 1, figsize=(10, 10))\n",
    "    sc.pl.umap(data, size=35, color='louvain', legend_loc='on data', \n",
    "        save='_{}_{}'.format(timestamp(), suffix), ax=ax)"
   ]
  },
  {
   "cell_type": "markdown",
   "metadata": {},
   "source": [
    "As a side effect, the plotting function saves the figure. If you do not change `suffix`, the figure is saved as a PDF."
   ]
  },
  {
   "cell_type": "code",
   "execution_count": null,
   "metadata": {},
   "outputs": [],
   "source": [
    "plot_named_louvain_clusters(data)"
   ]
  },
  {
   "cell_type": "markdown",
   "metadata": {},
   "source": [
    "### Saving all our hard work"
   ]
  },
  {
   "cell_type": "code",
   "execution_count": null,
   "metadata": {},
   "outputs": [],
   "source": [
    "out_fname = 'scanpy_mouse_piriform_cell_v3_{}.h5ad'.format(timestamp())\n",
    "data.write(out_fname, compression='gzip')"
   ]
  },
  {
   "cell_type": "markdown",
   "metadata": {},
   "source": [
    "# Zooming in on the neuronal clusters"
   ]
  },
  {
   "cell_type": "code",
   "execution_count": null,
   "metadata": {},
   "outputs": [],
   "source": [
    "data = sc.read(out_fname)"
   ]
  },
  {
   "cell_type": "code",
   "execution_count": null,
   "metadata": {},
   "outputs": [],
   "source": [
    "def focus_on_clusters(clustered_data, input_path, focal_name=\"neuro\"):\n",
    "    \"\"\"\n",
    "    Re-read data, select only those cells that we want (i.e. neurons).\n",
    "    \"\"\"\n",
    "    zoom = clustered_data[\n",
    "        clustered_data.obs['louvain'].str.contains(focal_name), :]\n",
    "\n",
    "    data = sc.read_10x_mtx(input_path, make_unique=True, cache=False)\n",
    "    data = data[zoom.obs.index]\n",
    "    return data"
   ]
  },
  {
   "cell_type": "code",
   "execution_count": null,
   "metadata": {},
   "outputs": [],
   "source": [
    "data = focus_on_clusters(data, PIRIF_PATH)"
   ]
  },
  {
   "cell_type": "markdown",
   "metadata": {},
   "source": [
    "Check if all went ok by printing the *data* object."
   ]
  },
  {
   "cell_type": "code",
   "execution_count": null,
   "metadata": {},
   "outputs": [],
   "source": [
    "print(data)"
   ]
  },
  {
   "cell_type": "markdown",
   "metadata": {},
   "source": [
    "Filtering out genes that are hardly expressed"
   ]
  },
  {
   "cell_type": "code",
   "execution_count": null,
   "metadata": {},
   "outputs": [],
   "source": [
    "sc.pp.filter_genes(data, min_cells=2)"
   ]
  },
  {
   "cell_type": "markdown",
   "metadata": {},
   "source": [
    "Normalize as always"
   ]
  },
  {
   "cell_type": "code",
   "execution_count": null,
   "metadata": {},
   "outputs": [],
   "source": [
    "data = normalize_and_log(data)"
   ]
  },
  {
   "cell_type": "markdown",
   "metadata": {},
   "source": [
    "<div class=\"alert alert-block alert-warning\">\n",
    "    Modify the number of bins below, if you get the message that there are many \"single genes per bin\". It usually means that you should reduce <var>n_bins</var>.\n",
    "</div>"
   ]
  },
  {
   "cell_type": "code",
   "execution_count": null,
   "metadata": {},
   "outputs": [],
   "source": [
    "n_bins = 20\n",
    "min_mean, max_mean, min_disp = 0.0, 10.0, 0.05\n",
    "result = filter_by_expr_dispersion(data, min_mean, max_mean, min_disp, n_bins, dry_run=True)"
   ]
  },
  {
   "cell_type": "markdown",
   "metadata": {},
   "source": [
    "Do the actual filtering, above was just a test run."
   ]
  },
  {
   "cell_type": "code",
   "execution_count": null,
   "metadata": {},
   "outputs": [],
   "source": [
    "data = filter_by_expr_dispersion(data, min_mean, max_mean, min_disp, n_bins, dry_run=False)"
   ]
  },
  {
   "cell_type": "code",
   "execution_count": null,
   "metadata": {},
   "outputs": [],
   "source": [
    "sc.pp.scale(data)"
   ]
  },
  {
   "cell_type": "code",
   "execution_count": null,
   "metadata": {},
   "outputs": [],
   "source": [
    "sc.tl.pca(data, svd_solver='arpack', n_comps=30)\n",
    "sc.pl.pca_variance_ratio(data, log=True, save=False)"
   ]
  },
  {
   "cell_type": "markdown",
   "metadata": {},
   "source": [
    "Below I pick just one principal component, which is a bit extreme."
   ]
  },
  {
   "cell_type": "code",
   "execution_count": null,
   "metadata": {},
   "outputs": [],
   "source": [
    "pcs_used = 1"
   ]
  },
  {
   "cell_type": "markdown",
   "metadata": {},
   "source": [
    "<div class=\"alert alert-block alert-warning\">\n",
    "    Given that we have fewer cells/nuclei now, it can be interesting to modify the neighbors <var>nbs</var> value below.\n",
    "</div>"
   ]
  },
  {
   "cell_type": "code",
   "execution_count": null,
   "metadata": {},
   "outputs": [],
   "source": [
    "nbs = 15\n",
    "sc.pp.neighbors(data, n_pcs=pcs_used, n_neighbors=nbs)\n",
    "sc.tl.louvain(data)"
   ]
  },
  {
   "cell_type": "markdown",
   "metadata": {},
   "source": [
    "Show three 2D projections of the cells and colour them by Louvain clusters. Again, modify `seed` and `dotsize` to adjust the projections to your liking."
   ]
  },
  {
   "cell_type": "code",
   "execution_count": null,
   "metadata": {},
   "outputs": [],
   "source": [
    "seed = 18\n",
    "dotsize = 150\n",
    "fig, axes = plt.subplots(1, 3, figsize=(15, 5.02))\n",
    "_ = plot_tsne(data, pcs_used, seed, dotsize, axes[0])\n",
    "_ = plot_umap(data, seed, dotsize, axes[1])\n",
    "_ = plot_graph(data, seed, dotsize, axes[2])"
   ]
  },
  {
   "cell_type": "code",
   "execution_count": null,
   "metadata": {},
   "outputs": [],
   "source": [
    "fig.savefig(os.path.join(FIGURES_PATH, 'three_projections_with_louvain_clusters_neurons_only.pdf'))"
   ]
  },
  {
   "cell_type": "markdown",
   "metadata": {},
   "source": [
    "# Looking for neuronal marker genes in the data\n",
    "\n",
    "Note that I do not use any literature here. In this analysis, the marker genes are simply those genes that best identify a given cluster."
   ]
  },
  {
   "cell_type": "code",
   "execution_count": null,
   "metadata": {
    "scrolled": true
   },
   "outputs": [],
   "source": [
    "sc.tl.rank_genes_groups(data, 'louvain', method='logreg')"
   ]
  },
  {
   "cell_type": "markdown",
   "metadata": {},
   "source": [
    "As said above, it is an ugly, but informative plot of top n genes and their scores."
   ]
  },
  {
   "cell_type": "code",
   "execution_count": null,
   "metadata": {},
   "outputs": [],
   "source": [
    "top = 10\n",
    "sc.pl.rank_genes_groups(data, n_genes=top, sharey=False)"
   ]
  },
  {
   "cell_type": "markdown",
   "metadata": {},
   "source": [
    "Looking at the top transcription factors in each of the clusters"
   ]
  },
  {
   "cell_type": "code",
   "execution_count": null,
   "metadata": {},
   "outputs": [],
   "source": [
    "top = 10\n",
    "\n",
    "result = []\n",
    "for colname, ranking in pd.DataFrame(data.uns['rank_genes_groups']['names']).iteritems():\n",
    "    result.append(pd.Series([gname for gname in ranking if gname in transfac_genes]))\n",
    "transfac_marker_genes = pd.concat(result, axis=1)[:top]\n",
    "transfac_marker_genes"
   ]
  },
  {
   "cell_type": "markdown",
   "metadata": {},
   "source": [
    "Single out the top 5 transcription factors of each cluster"
   ]
  },
  {
   "cell_type": "code",
   "execution_count": null,
   "metadata": {},
   "outputs": [],
   "source": [
    "tmp = transfac_marker_genes.head(5).values.flatten().tolist()"
   ]
  },
  {
   "cell_type": "markdown",
   "metadata": {},
   "source": [
    "Remove 'nan' values"
   ]
  },
  {
   "cell_type": "code",
   "execution_count": null,
   "metadata": {},
   "outputs": [],
   "source": [
    "tmp = sorted(set([x for x in tmp if str(x) != 'nan']))"
   ]
  },
  {
   "cell_type": "markdown",
   "metadata": {},
   "source": [
    "I commented out the code for making a dendrogram. With very few clusters a dendrogram does not really give us any extra insight."
   ]
  },
  {
   "cell_type": "code",
   "execution_count": null,
   "metadata": {},
   "outputs": [],
   "source": [
    "#sc.tl.dendrogram(data, groupby='louvain', n_pcs=pcs_used, linkage_method='ward')\n",
    "axes = sc.pl.stacked_violin(data, tmp, groupby='louvain', dendrogram=False, figsize=(7.5, 7.5));"
   ]
  },
  {
   "cell_type": "markdown",
   "metadata": {},
   "source": [
    "Save the violinplot"
   ]
  },
  {
   "cell_type": "code",
   "execution_count": null,
   "metadata": {},
   "outputs": [],
   "source": [
    "fig = axes[0].get_figure()\n",
    "fig.savefig(os.path.join(FIGURES_PATH, 'figures/violin_transfac_louvain_clusters_neurons_only.pdf'))"
   ]
  },
  {
   "cell_type": "code",
   "execution_count": null,
   "metadata": {},
   "outputs": [],
   "source": [
    "ax = sc.pl.matrixplot(data, tmp, groupby='louvain', dendrogram=False, figsize=(10, 3))"
   ]
  },
  {
   "cell_type": "markdown",
   "metadata": {},
   "source": [
    "### Conclusion at the moment...\n",
    "\n",
    "Zooming in on only neurons makes the space collapse to a single principal component (PC1)... so I should investigate how each of the genes contribute to PC1 (Have not done this yet).\n",
    "\n",
    "Instead I searched for marker genes, i.e. genes that are differentially expressed between the clusters. Some common sense genes pop up, like *Sox5* and *Sox11* each defining a single cluster. Most of these genes will require some literature search, though."
   ]
  },
  {
   "cell_type": "code",
   "execution_count": null,
   "metadata": {},
   "outputs": [],
   "source": []
  }
 ],
 "metadata": {
  "kernelspec": {
   "display_name": "Python 3",
   "language": "python",
   "name": "python3"
  },
  "language_info": {
   "codemirror_mode": {
    "name": "ipython",
    "version": 3
   },
   "file_extension": ".py",
   "mimetype": "text/x-python",
   "name": "python",
   "nbconvert_exporter": "python",
   "pygments_lexer": "ipython3",
   "version": "3.7.3"
  }
 },
 "nbformat": 4,
 "nbformat_minor": 4
}
